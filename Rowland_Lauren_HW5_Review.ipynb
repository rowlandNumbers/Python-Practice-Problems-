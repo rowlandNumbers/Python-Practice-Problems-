{
 "cells": [
  {
   "cell_type": "markdown",
   "metadata": {},
   "source": [
    "### Problem 1: Job Pricing\n",
    "\n",
    "Herbert Home Repair estimates each job cost as the cost of materials plus forty dollars per hour while on the job, plus twelve dollars per hour for travel time to the job site.\n",
    "\n",
    "Create a function that prompts the user for the name of a job (for example, Smith bathroom model), the cost of materials, the number of hours of work required and the number of hours travel time. \n",
    "\n",
    "Pass the numeric data to another function that computes estimate for the job and returns the computed value to main() where the job name & estimated price are displayed. "
   ]
  },
  {
   "cell_type": "markdown",
   "metadata": {},
   "source": [
    "### Write the algorithm. Multiple functions. use a main function.\n",
    "1. Get the name of job from the user.\n",
    "2. Get the number of labor hours required for this job.\n",
    "3. Get the cost of materials.\n",
    "4. Multiply labor hours with labor rate and add the total to materials. This is the labor cost. \n",
    "5. Get the number of hours traveled from the user.\n",
    "6. Multiply the time traveled with the travel fee. This is the travel fee. \n",
    "7. Add the labor cost and the travel fee. This is the job total.\n"
   ]
  },
  {
   "cell_type": "markdown",
   "metadata": {},
   "source": [
    "### Write the pseudocode.\n",
    "1. Declare variables for travel and labor fee.\n",
    "2. Ask the user for the name of the job.\n",
    "3. Determine the total cost of the job.\n",
    "4. Declare variable for labor rate.\n",
    "5. Get the number of hours worked from the user.\n",
    "6. Get the cost of materials from the user.\n",
    "7. Calculate the total cost of labor plus materials.\n",
    "8. Declare variable for travel rate.\n",
    "9. Get the number of hours traveled.\n",
    "10. Calculate the total cost of travel.\n",
    "11. Call the main function. "
   ]
  },
  {
   "cell_type": "code",
   "execution_count": 1,
   "metadata": {},
   "outputs": [
    {
     "name": "stdout",
     "output_type": "stream",
     "text": [
      "Enter the number of work hours required: 10\n",
      "Enter the cost of materials: 100\n",
      "Enter the number of hours traveled: 10\n",
      "Enter the name of the job: Painting\n",
      "The total cost of Painting is 620.00\n"
     ]
    }
   ],
   "source": [
    "def main():\n",
    "    # Declare variables for travel and labor fee.\n",
    "    laborTotal = labor()\n",
    "    travelTotal = travel()\n",
    "    \n",
    "    # Ask the user for the name of the job.\n",
    "    jobName = str(input(\"Enter the name of the job: \"))\n",
    "    \n",
    "    \n",
    "    # Determine the total cost of the job.\n",
    "    jobTotal = laborTotal + travelTotal\n",
    "    print(\"The total cost of\", jobName, \"is\", format(jobTotal, '.2f') )\n",
    "    \n",
    "# The labor function determines the total cost of labor and materials.    \n",
    "def labor():\n",
    "    # Declare variable for labor rate.\n",
    "    laborRate = 40.00\n",
    "    \n",
    "    # Get the number of hours worked.\n",
    "    hoursWorked = float(input(\"Enter the number of work hours required: \"))\n",
    "\n",
    "    # Get the cost of materials.\n",
    "    materials = float(input(\"Enter the cost of materials: \"))\n",
    "\n",
    "    # Calculate the total cost of labor plus materials.\n",
    "    laborFee = (hoursWorked * laborRate) + materials\n",
    "    return laborFee\n",
    "# The travel function determines the total cost of travel. \n",
    "def travel():\n",
    "    # Declare variable for travel rate.\n",
    "    travelRate = 12.00\n",
    "    # Get the number of hours traveled.\n",
    "    hoursTraveled = float(input(\"Enter the number of hours traveled: \"))\n",
    "\n",
    "    # Calculate the total cost of travel.\n",
    "    travelFee = hoursTraveled * travelRate\n",
    "    return travelFee\n",
    "# Call the main fxn. \n",
    "main()\n",
    "\n"
   ]
  },
  {
   "cell_type": "markdown",
   "metadata": {},
   "source": []
  },
  {
   "cell_type": "markdown",
   "metadata": {},
   "source": [
    "### Problem 2: Paint Calculator\n",
    "\n",
    "1. Assume that a gallon of paint covers about 350 square feet of wall space. \n",
    "\n",
    "2. Create an application with a main function that prompts the user for the length, width and height of a rectangular room. \n",
    "\n",
    "3. Pass these three values to a function that does the following:\n",
    "- Calculates the wall area for a room\n",
    "- Passes the calculated wall area to another function that calculates and returns the number of gallons of paint needed\n",
    "- Displays the number of gallons needed\n",
    "- Computes the price based on a paint price of thirty two dollars per gallon, assuming that the painter can buy any fraction of a gallon of paint at the same price as a whole gallon\n",
    "\n",
    "- Returns the price to the main method\n",
    "\n",
    "The main method should display the final price. For example, the cost to paint a 15 by 20 ft room with 10 ft ceilings is sixty four dollars. # I don't understand this calculation and why we need the ceiling height (which I would think is equal to the length). Why isn't it 15*20 for the area of one wall, so 300 * 4 for the total area of 4 walls. 1200 / 350 = 3.43 gallons of paint @ $32.00/ gallon for a price of 109.76?"
   ]
  },
  {
   "cell_type": "markdown",
   "metadata": {},
   "source": [
    "### Write the algorithm.\n",
    "1. Get the measurements of the room.\n",
    "2. Determine the size of the room. \n",
    "3. Use the room size to determine the number of gallons of paint needed.\n",
    "4. Use the number of gallons of paint to determine the cost."
   ]
  },
  {
   "cell_type": "markdown",
   "metadata": {},
   "source": [
    "### Write the pseudocode. use the import random (Where am I using the random fxn if we're asking the user for the LxWxH?) . mainline fxn. \n",
    "1. Show the cost of the paint job using the paint fxn.\n",
    "2. The paint fxn shows the number of gallons needed and returns the cost of the paint job to the main fxn. \n",
    "3. Prompt the user for the length, width and height of a rectangular room.\n",
    "4. Calculate the wall area for a room using length and width.\n",
    "5. Calculate and dispaly the number of gallons of paint needed using the wall area.\n",
    "6. Calcualte and display the cost of the paint. \n",
    "7. Call the main function."
   ]
  },
  {
   "cell_type": "code",
   "execution_count": 2,
   "metadata": {},
   "outputs": [
    {
     "name": "stdout",
     "output_type": "stream",
     "text": [
      "Enter the length: 10\n",
      "Enther the width: 10\n",
      "Enter the height: 10\n",
      "1.14 gallons are needed.\n",
      "The cost to paint this room is $ 36.57\n"
     ]
    }
   ],
   "source": [
    "def main():\n",
    "    # Show the cost of the paint job using the paint fxn.\n",
    "    cost = paint()\n",
    "\n",
    "    print(\"The cost to paint this room is $\", cost)\n",
    "#  The paint fxn shows the number of gallons needed and \n",
    "#returns the cost of the paint job to the main fxn. \n",
    "def paint():    \n",
    "     # Prompt the user for the length, width and height of a rectangular room.\n",
    "    length = int(input(\"Enter the length: \"))\n",
    "    width = int(input(\"Enther the width: \"))\n",
    "    height = int(input(\"Enter the height: \"))\n",
    "    \n",
    "    # Calculate the wall area for a room\n",
    "    roomArea = (length * width) * 4\n",
    "    \n",
    "    # Calculate the number of gallons of paint needed.\n",
    "    paintNeeded = roomArea / 350\n",
    "    \n",
    "    # Display the number of gallons needed.\n",
    "    print(format(paintNeeded,'.2f'), \"gallons are needed.\")\n",
    "    # calcualte and display the cost of the paint. \n",
    "    paintCost = paintNeeded * 32\n",
    "    return format(paintCost,'.2f')\n",
    "# Call the main fxn.     \n",
    "main()"
   ]
  },
  {
   "cell_type": "markdown",
   "metadata": {},
   "source": [
    " "
   ]
  },
  {
   "cell_type": "markdown",
   "metadata": {},
   "source": [
    "### Problem 3: Number Demo\n",
    "Create a program that takes two random integer variables. Assign the values to a variable. Pass each value to the functions displayTwiceTheNumber(), displayNumberPlusFive(), and displayNumberSquared(). Create each function to perform the tasks its name implies and display the results.\n",
    "\n",
    "For this problem you will need to use the random module."
   ]
  },
  {
   "cell_type": "markdown",
   "metadata": {},
   "source": [
    "### Write the algorithm.\n",
    "1. Get 2 random numbers.\n",
    "2. Use each number to multiply by 2.\n",
    "3. Use each number and add 5.\n",
    "4. Use each number and square it. "
   ]
  },
  {
   "cell_type": "markdown",
   "metadata": {},
   "source": [
    "### Write the pseudocode.\n",
    "1. Get 2 random numbers.\n",
    "2. Use the numbers in each function.\n",
    "3. The displaysTwiceTheNumber function multiplies each number by 2 and shows the results. \n",
    "4. The displayNumberPlusFive function adds 5 to each number and shows the results.\n",
    "5. The displayNumberSquared function squares each number and shows the results. \n",
    "6. Call the main function. "
   ]
  },
  {
   "cell_type": "code",
   "execution_count": 9,
   "metadata": {},
   "outputs": [
    {
     "name": "stdout",
     "output_type": "stream",
     "text": [
      "236\n",
      "550\n",
      "123\n",
      "280\n",
      "13924\n",
      "75625\n"
     ]
    }
   ],
   "source": [
    "def main():\n",
    "    # Get random numbers.\n",
    "    import random\n",
    "    randNum1 = random.randint(0, 999)\n",
    "    randNum2 = random.randint(0, 999)\n",
    "    # Use the numbers in each function. \n",
    "    displaysTwiceTheNumber(randNum1, randNum2)\n",
    "    displayNumberPlusFive(randNum1, randNum2)\n",
    "    displayNumberSquared(randNum1, randNum2)\n",
    "# Multiplies each number by 2 and shows the results.    \n",
    "def displaysTwiceTheNumber(randNum1, randNum2):\n",
    "    print(randNum1*2)\n",
    "    print(randNum2*2)\n",
    "# This function adds 5 to each number and shows the results.\n",
    "def displayNumberPlusFive(randNum1, randNum2):\n",
    "    print (randNum1 + 5)\n",
    "    print (randNum2 + 5)\n",
    "# This function squares each number and shows the results. \n",
    "def displayNumberSquared(randNum1, randNum2):\n",
    "    print(randNum1 * randNum1)\n",
    "    print(randNum2 * randNum2)\n",
    "# Call the main fxn.\n",
    "main()"
   ]
  },
  {
   "cell_type": "markdown",
   "metadata": {},
   "source": []
  },
  {
   "cell_type": "code",
   "execution_count": null,
   "metadata": {},
   "outputs": [],
   "source": []
  }
 ],
 "metadata": {
  "kernelspec": {
   "display_name": "Python 3 (ipykernel)",
   "language": "python",
   "name": "python3"
  },
  "language_info": {
   "codemirror_mode": {
    "name": "ipython",
    "version": 3
   },
   "file_extension": ".py",
   "mimetype": "text/x-python",
   "name": "python",
   "nbconvert_exporter": "python",
   "pygments_lexer": "ipython3",
   "version": "3.9.7"
  }
 },
 "nbformat": 4,
 "nbformat_minor": 2
}
