{
 "cells": [
  {
   "cell_type": "markdown",
   "metadata": {},
   "source": [
    "## Chapter 4: Repetition Structures Lab CIS 101 Spring 2022"
   ]
  },
  {
   "cell_type": "markdown",
   "metadata": {},
   "source": [
    "### Example 1: Bug Collector \n",
    "\n",
    "A bug collector collects bugs every day for five days. Write a program \n",
    "that keeps a running total of the number of bugs collected during the five \n",
    "days. The loop should ask for the number of bugs collected for each day, and when the loop is finished, the program should display the total number of bugs collected.\n",
    "\n"
   ]
  },
  {
   "cell_type": "markdown",
   "metadata": {},
   "source": [
    "### Example 1: Pseudocode\n",
    "\n",
    "1. Initialize variables for bugs and total number of bugs collected.\n",
    "2. Get the number of bugs collected each day.\n",
    "3. Display the total number of bugs collected."
   ]
  },
  {
   "cell_type": "markdown",
   "metadata": {},
   "source": [
    "## Rearrange the code to run with the corresponding comments."
   ]
  },
  {
   "cell_type": "code",
   "execution_count": null,
   "metadata": {},
   "outputs": [],
   "source": [
    "# Initialize variables for bugs and total number of bugs collected.\n",
    "bugs = 0\n",
    "total = 0\n",
    "\n",
    "# Get number of bugs collected each day.\n",
    "bugs = int(input('Enter the number of bugs collected today: '))\n",
    "\n",
    "\n",
    "for day in range(5):\n",
    "    total += bugs\n",
    "    # Display the total number of bugs collected.\n",
    "    print ('Total bugs collected: ', total)\n",
    "\n",
    "\n",
    "\n"
   ]
  },
  {
   "cell_type": "markdown",
   "metadata": {},
   "source": [
    "### Example 2: Distance Traveled \n",
    "The distance a vehicle travels can be calculated as follows:\n",
    "\n",
    "                    distance * speed = time\n",
    "                    \n",
    "For example, if a train travels 40 miles per hour for three hours, the distance traveled is 120 miles. Write a program that asks the user for the speed of a vehicle (in miles per hour) and the number of hours it has traveled. It should then use a loop to display the distance the vehicle has traveled for each hour of that time period. Here is an example of the desired output:\n",
    "\n",
    "What is the speed of the vehicle in mph? 40 \n",
    "How many hours has it traveled? 3 \n",
    "\n",
    "\n",
    "Hour         Distance Traveled\n",
    "1                    40\n",
    "2                    80\n",
    "3                   120"
   ]
  },
  {
   "cell_type": "markdown",
   "metadata": {},
   "source": [
    "### Pseudocode\n",
    "\n",
    "1. Declare variables for the distance, speed and time.\n",
    "2. Get the speed as input from the user.\n",
    "3. Get time traveled as input from the user.\n",
    "4. Calculate distance; distance = hour * speed\n",
    "4. Display the distances traveled by hour."
   ]
  },
  {
   "cell_type": "markdown",
   "metadata": {},
   "source": [
    "## Rearrange the code and corresponding comments to run the Python program."
   ]
  },
  {
   "cell_type": "code",
   "execution_count": 1,
   "metadata": {},
   "outputs": [
    {
     "name": "stdout",
     "output_type": "stream",
     "text": [
      "Enter the number of hours traveled: 10\n",
      "Enter the speed of the vehicle in mph: 10\n",
      "Hour\tDistance Traveled\n",
      "------------------------\n",
      "10 \t 100.0\n"
     ]
    }
   ],
   "source": [
    "# Declare variables for the distance, speed, and time.\n",
    "distance = 0\n",
    "speed = 0.0\n",
    "time = 0\n",
    "\n",
    "# Get time traveled and convert to integer for full hours.\n",
    "time = int(float(input('Enter the number of hours traveled: ')))\n",
    "\n",
    "# Get the speed as input from the user.\n",
    "speed = float(input('Enter the speed of the vehicle in mph: '))\n",
    "\n",
    "# Display the distance traveled by hour.\n",
    "print ('Hour\\tDistance Traveled')\n",
    "print ('------------------------')  \n",
    "\n",
    "for hour in range(1, time + 1):\n",
    "    distance = time * speed\n",
    "\n",
    "print (time, '\\t',distance) \n",
    "\n",
    "\n",
    "\n",
    "\n",
    "    \n",
    "\n"
   ]
  },
  {
   "cell_type": "markdown",
   "metadata": {},
   "source": [
    "### Example 4: Calories Burned \n",
    "\n",
    "Running on a particular treadmill you burn 4.2 calories per minute. Write a program\n",
    "that uses a loop to display the number of calories burned after 10, 15, 20, 25 and 30 \n",
    "minutes."
   ]
  },
  {
   "cell_type": "markdown",
   "metadata": {},
   "source": [
    "### Example 4: Calories Burned Pseudocode\n",
    "\n",
    "1. Declare and initialize a variable for the calories burned per minute.\n",
    "2. Declare variable for the number of calories burned and the number of minutes.\n",
    "3. Execute the for loop to display calories burned.\n",
    "4. Display the results."
   ]
  },
  {
   "cell_type": "markdown",
   "metadata": {},
   "source": [
    "## Rearrange the code and corresponding comments to run the Python program."
   ]
  },
  {
   "cell_type": "code",
   "execution_count": 8,
   "metadata": {},
   "outputs": [
    {
     "ename": "IndentationError",
     "evalue": "expected an indented block (Temp/ipykernel_8072/3663118837.py, line 8)",
     "output_type": "error",
     "traceback": [
      "\u001b[1;36m  File \u001b[1;32m\"C:\\Users\\livin\\AppData\\Local\\Temp/ipykernel_8072/3663118837.py\"\u001b[1;36m, line \u001b[1;32m8\u001b[0m\n\u001b[1;33m    caloriesPerMinute = 4.2 * minutes\u001b[0m\n\u001b[1;37m    ^\u001b[0m\n\u001b[1;31mIndentationError\u001b[0m\u001b[1;31m:\u001b[0m expected an indented block\n"
     ]
    }
   ],
   "source": [
    "# Declare variables for the number of calories burned and the number of minutes.\n",
    "caloriesBurned = 0.0\n",
    "minutes = 0\n",
    "\n",
    "# Declare and initialize a variable for the calories burned per minute.\n",
    "caloriesPerMinute = 4.2 * minutes\n",
    "for minutes in range(10, 31, 5):\n",
    "\n",
    "# Execute the for loop to display calories burned.caloriesPerMinute = 4.2\n",
    " caloriesBurned = caloriesPerMinute * minutes\n",
    "       \n",
    "   \n",
    "print ('Minutes\\t\\tCalories Burned')\n",
    "print ('-------------------------------')\n",
    "print (minutes, \"\\t\\t\", caloriesBurned) \n",
    "\n",
    "    \n",
    "    \n",
    "\n",
    "\n",
    "\n",
    "\n"
   ]
  },
  {
   "cell_type": "markdown",
   "metadata": {},
   "source": [
    "### Example 4: Calculating the Factorial of a Number \n",
    "\n",
    "In mathematics, the notation n! represents the factorial of the nonnegative integer n. The factorial of n is the product of all the nonnegative integers from 1 to n. For example,\n",
    "\n",
    "    7! = 1 * 2 * 3 * 4 * 5 * 6 * 7 * 8 * 9 = 5,040 \n",
    "    \n",
    "    4! = 1 * 2 * 3 * 4 = 24\n",
    "    \n",
    "Write a program that lets the user enter a nonnegative integer then uses a loop to calculate the factorial of that number. Display the factorial.\n"
   ]
  },
  {
   "cell_type": "markdown",
   "metadata": {},
   "source": [
    "### Pseudocode\n",
    "\n",
    "1. Initialize the number to zero\n",
    "2. Get a valid number from the user.\n",
    "3. Initialize the accumulator variable.\n",
    "4. Calculate the factorial of the number.\n",
    "5. Display the factorial of the number.\n"
   ]
  },
  {
   "cell_type": "markdown",
   "metadata": {},
   "source": [
    "## Rearrange the code and corresponding comments to run the Python program."
   ]
  },
  {
   "cell_type": "code",
   "execution_count": null,
   "metadata": {},
   "outputs": [],
   "source": [
    "# Inititalize number to zero.\n",
    "number = 0 \n",
    "\n",
    "# Get a valid number from the user.\n",
    "while number <= 0: \n",
    "    number = int(input('Enter a nonnegative integer: '))\n",
    "\n",
    "# Initialize the accumulator variable.\n",
    "factoral = 1\n",
    "\n",
    "print ('Factor\\tFactorial')\n",
    "print ('------------------------')\n",
    "\n",
    "# Calculate the factoral of the number.\n",
    "for factor in range(1, number + 1):\n",
    "    factoral *= factor\n",
    "    print(factor, '\\t',factoral)\n",
    "                   \n",
    "# Display the factoral of the number.\n",
    "print('The factoral of', number, 'is', factoral)\n",
    "    \n",
    "    \n",
    "\n"
   ]
  },
  {
   "cell_type": "code",
   "execution_count": null,
   "metadata": {},
   "outputs": [],
   "source": []
  }
 ],
 "metadata": {
  "kernelspec": {
   "display_name": "Python 3 (ipykernel)",
   "language": "python",
   "name": "python3"
  },
  "language_info": {
   "codemirror_mode": {
    "name": "ipython",
    "version": 3
   },
   "file_extension": ".py",
   "mimetype": "text/x-python",
   "name": "python",
   "nbconvert_exporter": "python",
   "pygments_lexer": "ipython3",
   "version": "3.9.7"
  }
 },
 "nbformat": 4,
 "nbformat_minor": 4
}
