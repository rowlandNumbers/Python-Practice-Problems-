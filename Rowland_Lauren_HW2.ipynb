{
 "cells": [
  {
   "cell_type": "markdown",
   "metadata": {},
   "source": [
    "# Chapter 2 Homework:  Input, Process, Output CIS 103"
   ]
  },
  {
   "cell_type": "markdown",
   "metadata": {},
   "source": [
    "## Problem #1 Miles to Kilometers\n",
    "\n",
    "One kilometer is equivalent to 0.62137 miles. Write a program that asks the user to enter the \n",
    "miles and then calculates and displays the conversion of miles to kilometers.\n"
   ]
  },
  {
   "cell_type": "markdown",
   "metadata": {},
   "source": [
    "## Write the algorithm \n",
    "1. Declare the variables and constants.\n",
    "2. Get the miles from the user. \n",
    "3. Calculate the conversion. \n",
    "4. Display the conversion.  "
   ]
  },
  {
   "cell_type": "markdown",
   "metadata": {},
   "source": [
    "## Write the pseudocode.\n",
    "\n",
    "1. Create variables for the miles and constants for miles in a kilometer.\n",
    "2. Prompt the user for miles.\n",
    "3. Convert miles to kilometers by dividing the users input with 0.62137. \n",
    "4. Display results of the conversion.  "
   ]
  },
  {
   "cell_type": "code",
   "execution_count": 1,
   "metadata": {},
   "outputs": [
    {
     "name": "stdout",
     "output_type": "stream",
     "text": [
      "Enter the miles: 100\n",
      "160.93470878864446\n"
     ]
    }
   ],
   "source": [
    "# Create variables for the miles and  and constants for miles in a kilometer.\n",
    "MILES_IN_KILOMETER = 0.62137\n",
    "originalMiles = 0.0\n",
    "newKilometers = 0.0\n",
    "\n",
    "# Prompt the user for miles.\n",
    "originalMiles = float(input(\"Enter the miles: \"))\n",
    "\n",
    "# Convert miles to kilometers. \n",
    "newKilometers = originalMiles / MILES_IN_KILOMETER\n",
    "\n",
    "# Display results of the conversion. \n",
    "print(newKilometers)"
   ]
  },
  {
   "cell_type": "markdown",
   "metadata": {},
   "source": [
    "## Problem #2 Tip, Tax, and Total\n",
    "\n",
    "Write a program that calculates the total amount of a meal purchased at a restaurant including the tip. The program should ask the user to enter the charge for the food, then calculate the amounts of a 18 percent tip and 10.25 percent sales tax. Display the charges for the food, tip, taxes and total amount of the meal including the tip.\n"
   ]
  },
  {
   "cell_type": "markdown",
   "metadata": {},
   "source": [
    "## Write the algorirthm.\n",
    "1. Declare the variables and constants.\n",
    "2. Get subtotal from the user.\n",
    "3. Calculate the tip\n",
    "4. Calculate the taxes charged.\n",
    "5. Calculate grand total.\n",
    "6. Display the charges.\n",
    "7. Display the grand total\n"
   ]
  },
  {
   "cell_type": "markdown",
   "metadata": {},
   "source": [
    "## Write the pseudocode.\n",
    "1. Create the  constants for the tip and tax percentage. \n",
    "2. Create the variables for the subtotal, tip total, tax total, and grand total.\n",
    "3. Ask the user for the subtotal.\n",
    "4. Calculate 18% tip of the subtotal.\n",
    "5. Calculate 10.25% sales tax of the subtotal.\n",
    "6. Add charges to the subtotal to calculate grand total.\n",
    "7. Display the charges and grand total. \n"
   ]
  },
  {
   "cell_type": "code",
   "execution_count": 2,
   "metadata": {},
   "outputs": [
    {
     "name": "stdout",
     "output_type": "stream",
     "text": [
      "Enter the subtotal: 1000\n",
      "The subtotal is  1000.0\n",
      "The tip is  180.0\n",
      "The sales tax is  102.5\n",
      "The Grand Total is  1282.5\n"
     ]
    }
   ],
   "source": [
    "# Create the  constants for the tip and tax percentage. \n",
    "TIP_PERCENT = .18\n",
    "TAX_PERCENT = .1025\n",
    "\n",
    "# Create the variables for the subtotal, tip total, tax total, and grand total.\n",
    "subtotal = 0.0\n",
    "tipTotal = 0.0\n",
    "taxTotal = 0.0\n",
    "grandTotal = 0.0\n",
    "\n",
    "# Ask the user for the subtotal.\n",
    "subtotal = float(input(\"Enter the subtotal: \"))\n",
    "\n",
    "# Calculate 18% tip of the subtotal.\n",
    "tipTotal = subtotal * TIP_PERCENT\n",
    "\n",
    "# Calculate 10.25% sales tax of the subtotal.\n",
    "taxTotal = subtotal * TAX_PERCENT\n",
    "\n",
    "# Add charges to the subtotal to calculate grand total.\n",
    "grandTotal = subtotal + tipTotal + taxTotal\n",
    "\n",
    "# Display the charges and grand total. \n",
    "print(\"The subtotal is \", subtotal)\n",
    "print(\"The tip is \", tipTotal)\n",
    "print(\"The sales tax is \", taxTotal)\n",
    "print(\"The Grand Total is \", grandTotal)"
   ]
  },
  {
   "cell_type": "markdown",
   "metadata": {},
   "source": [
    "## Problem #3: Distance Traveled\n",
    "\n",
    "Assuming there are no accidents or delays, the distance that a car travels down the interstate can be calculated with the following formula:\n",
    "\n",
    "                        distance = speed * time\n",
    "                        \n",
    "A car is traveling at 100 miles per hour. Write a program that displays the following:\n",
    "\n",
    " - The distance the car will travel in 55 hours.\n",
    " - The distance the car will travel in 65 hours.\n",
    " - The distance the car will travel in 80 hours. "
   ]
  },
  {
   "cell_type": "markdown",
   "metadata": {},
   "source": [
    "## Write the algorithm.\n",
    "\n",
    "1. Declare constants and variables.\n",
    "2. Calculate distance traveled in 55 hours, 65 hours, and 80 hours.\n",
    "5. Display distance for each time traveled. "
   ]
  },
  {
   "cell_type": "markdown",
   "metadata": {},
   "source": [
    "## Write the pseudocode.\n",
    "1. Declare the constants for the speed and time.\n",
    "2. Declare the variables for the distance.\n",
    "3. Calculate the distance traveled in 55, 65, and 80 hours.\n",
    "4. Display the distance traveled in 55, 65, and 80 hours. "
   ]
  },
  {
   "cell_type": "code",
   "execution_count": 3,
   "metadata": {
    "scrolled": true
   },
   "outputs": [
    {
     "name": "stdout",
     "output_type": "stream",
     "text": [
      "The distance traveled in 55 hours is 5500\n",
      "The distance traveled in 65 hours is 6500\n",
      "The distance traveled in 80 hours is 8000\n"
     ]
    }
   ],
   "source": [
    "# Declare the constants for the speed and time.\n",
    "SPEED = 100\n",
    "TIME_A = 55\n",
    "TIME_B = 65\n",
    "TIME_C = 80\n",
    "\n",
    "# Declare the variables for the distance.\n",
    "distance_A = 0\n",
    "distance_B = 0\n",
    "distance_C = 0\n",
    "\n",
    "# Calculate the distance traveled in 55, 65, and 80 hours.\n",
    "distance_A = SPEED * TIME_A\n",
    "distance_B = SPEED * TIME_B\n",
    "distance_C = SPEED * TIME_C\n",
    "\n",
    "# Display the distance traveled in 55, 65, and 80 hours. \n",
    "print(\"The distance traveled in 55 hours is\", distance_A)\n",
    "print(\"The distance traveled in 65 hours is\", distance_B)\n",
    "print(\"The distance traveled in 80 hours is\", distance_C)"
   ]
  },
  {
   "cell_type": "code",
   "execution_count": null,
   "metadata": {},
   "outputs": [],
   "source": []
  }
 ],
 "metadata": {
  "kernelspec": {
   "display_name": "Python 3 (ipykernel)",
   "language": "python",
   "name": "python3"
  },
  "language_info": {
   "codemirror_mode": {
    "name": "ipython",
    "version": 3
   },
   "file_extension": ".py",
   "mimetype": "text/x-python",
   "name": "python",
   "nbconvert_exporter": "python",
   "pygments_lexer": "ipython3",
   "version": "3.9.7"
  }
 },
 "nbformat": 4,
 "nbformat_minor": 4
}
