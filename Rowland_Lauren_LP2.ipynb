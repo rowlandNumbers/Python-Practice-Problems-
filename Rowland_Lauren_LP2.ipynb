{
 "cells": [
  {
   "cell_type": "markdown",
   "metadata": {},
   "source": [
    "# Chapter 2:  Input, Process, Output In Class Lab 2 CIS 103 Spring 2022"
   ]
  },
  {
   "cell_type": "markdown",
   "metadata": {},
   "source": [
    "### Example #2\n",
    "### Calculating an Average\n",
    "Determining the average of a group of values is a simple calculation: add all of the values then divide the sum by the number of values. Although this is a straightforward calculation, it is easy to make a mistake when writing a program that calculates an average. For example, let’s assume that the variables a, b, and c each hold a value and we want to calculate the average of those values. If we are careless, we might write a statement such as the following to perform the calculation:\n",
    "\n",
    "    average = a + b + c / 3.0\n",
    "    \n",
    "Can you see the error in this statement? When it executes, the division will take place first. The value in c will be divided by 3, then the result will be added to a + b. That is not the correct way to calculate an average. To correct this error, we need to put parentheses around a + b + c, as shown here:\n",
    "\n",
    "    average = (a + b + c) / 3.0\n",
    "    \n"
   ]
  },
  {
   "cell_type": "markdown",
   "metadata": {},
   "source": [
    "### Algorithm\n",
    "\n",
    "1. Get the first test score.\n",
    "2. Get the second test score.\n",
    "3. Get the third test score.\n",
    "4. Calculate the average by adding the three test scores and dividing the sum by 3.\n",
    "5. Display the average.\n",
    "\n"
   ]
  },
  {
   "cell_type": "markdown",
   "metadata": {
    "scrolled": true
   },
   "source": [
    "### Pseudocode\n",
    "\n",
    "1. Create the variable or constants\n",
    "2. Prompt the user to enter the three test scores. 3\n",
    "3. Calculate the average of the three test scores; average = (test1 + test2 + test3) / 3.0\n",
    "4. Display the average. \n",
    "\n"
   ]
  },
  {
   "cell_type": "code",
   "execution_count": 11,
   "metadata": {},
   "outputs": [
    {
     "name": "stdout",
     "output_type": "stream",
     "text": [
      "Enter the first test score: 100\n",
      "Enter the second test score: 50\n",
      "Enter the third test score: 50\n",
      "66.66666666666667\n"
     ]
    }
   ],
   "source": [
    "## Write the code\n",
    "\n",
    "# Declare the variables\n",
    "#test_1 = 0.0\n",
    "#test_2 = 0.0\n",
    "#test_3 = 0.0\n",
    "#average = 0.0\n",
    "\n",
    "# Ask the user for the input\n",
    "test_1 = float(input(\"Enter the first test score: \"))\n",
    "test_2 = float(input(\"Enter the second test score: \"))\n",
    "test_3 = float(input(\"Enter the third test score: \"))\n",
    "\n",
    "#Calculate the average\n",
    "average = (test_1 + test_2 + test_3)/3\n",
    "\n",
    "# Display the average\n",
    "print(average)"
   ]
  },
  {
   "cell_type": "markdown",
   "metadata": {},
   "source": [
    "### Example #3\n",
    "### Payment Installments\n",
    "\n",
    "Write a program that asks the user to enter the amount of a purchase and the desired number of payment installments. The program should add 5 percent to the amount to get the total purchase amount, and then divide it by the desired number of instalments, then display messages telling the user the total amount of the purchase and how much each\n",
    "instalment will cost."
   ]
  },
  {
   "cell_type": "markdown",
   "metadata": {},
   "source": [
    "### Write the algorithm.\n",
    "\n",
    "1. Amount of the purchase\n",
    "2. Amount of the installments\n",
    "3. Calculate 5% of the purchase price\n",
    "4. Calculate the cost of installments\n",
    "5. Display the total amount of the purchase and how much each installment will cost.\n",
    "\n"
   ]
  },
  {
   "cell_type": "markdown",
   "metadata": {},
   "source": [
    "### Write the pseudocode.\n",
    "\n",
    "1. Create variables or constants.\n",
    "2. Ask the user to enter the amount of the purchase\n",
    "3. Ask the user for the number of installments\n",
    "4. Calculate the price of the installments based on the number of installments.\n",
    "5. Display the total amount of the purchase and the cost of each installment."
   ]
  },
  {
   "cell_type": "code",
   "execution_count": 12,
   "metadata": {},
   "outputs": [
    {
     "name": "stdout",
     "output_type": "stream",
     "text": [
      "Enter the purchase amount: 100\n",
      "Enter the number of installments: 50\n",
      "2.1\n",
      "5.0\n",
      "105.0\n"
     ]
    }
   ],
   "source": [
    "## Write the code\n",
    "\n",
    "# Declare constants \n",
    "FEE_PERCENTAGE = .05\n",
    "\n",
    "# Declare vriables \n",
    "totalPurchase = 0.0\n",
    "installments = 0.0\n",
    "totalPrice = 0.0\n",
    "installmentFee = 0.0\n",
    "\n",
    "# Ask user for input\n",
    "\n",
    "totalPurchase = float(input(\"Enter the purchase amount: \"))\n",
    "installments = float(input(\"Enter the number of installments: \"))\n",
    "\n",
    "# Calculate the  fees and total costs\n",
    "installmentFee = FEE_PERCENTAGE * totalPurchase\n",
    "totalPrice = totalPurchase + installmentFee\n",
    "installmentCost = totalPrice / installments \n",
    "\n",
    "# Display total amount of the purchase and the cost of the installment\n",
    "print(installmentCost)\n",
    "print(installmentFee)\n",
    "print(totalPrice)"
   ]
  },
  {
   "cell_type": "code",
   "execution_count": null,
   "metadata": {},
   "outputs": [],
   "source": []
  }
 ],
 "metadata": {
  "kernelspec": {
   "display_name": "Python 3 (ipykernel)",
   "language": "python",
   "name": "python3"
  },
  "language_info": {
   "codemirror_mode": {
    "name": "ipython",
    "version": 3
   },
   "file_extension": ".py",
   "mimetype": "text/x-python",
   "name": "python",
   "nbconvert_exporter": "python",
   "pygments_lexer": "ipython3",
   "version": "3.9.7"
  }
 },
 "nbformat": 4,
 "nbformat_minor": 4
}
