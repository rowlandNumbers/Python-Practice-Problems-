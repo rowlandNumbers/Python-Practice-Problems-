{
 "cells": [
  {
   "cell_type": "markdown",
   "metadata": {},
   "source": [
    "## Problem 1: Factorials Using a For Loop\n",
    "\n",
    "Write an application that displays the factorial for every integer value from 1 - 10 using a <b>for loop </b>. A factorial of a number is the product of that number multiplied by each positive integer lower than it. For example, 4! is 4 x 3 x 2 x 1 or 24. Display your results in a table with the headers factoral and result. Please do not use a combination of the while loop and for loop. Construct your solution using the for loop only. You should also use an accumulator in your solution."
   ]
  },
  {
   "cell_type": "markdown",
   "metadata": {},
   "source": [
    "1. Create a table.\n",
    "2. Determine the starting number to find the factorial of.\n",
    "3. Find the product of a number and each positive interger that is lower than it. \n",
    "4. Repeat for numbers 1-10."
   ]
  },
  {
   "cell_type": "markdown",
   "metadata": {},
   "source": [
    "## Psuedocode\n",
    "1. Print the table headings.\n",
    "2. Create variable for the first number.  \n",
    "3. Using a count controlled statement, find the factorial of 1-10.\n",
    "4. Print the numbers 1-10 and their factorals under the header. "
   ]
  },
  {
   "cell_type": "code",
   "execution_count": 9,
   "metadata": {},
   "outputs": [
    {
     "name": "stdout",
     "output_type": "stream",
     "text": [
      "Factoral\tResults\n",
      "--------------\n",
      "1 \t 1\n",
      "2 \t 2\n",
      "3 \t 6\n",
      "4 \t 24\n",
      "5 \t 120\n",
      "6 \t 720\n",
      "7 \t 5040\n",
      "8 \t 40320\n",
      "9 \t 362880\n",
      "10 \t 3628800\n"
     ]
    }
   ],
   "source": [
    "# Print the table headings.\n",
    "print('Factoral\\tResults')\n",
    "print('--------------')\n",
    "\n",
    "# Create variable for the first number. \n",
    "factoral = 1\n",
    "# Using a count controlled statement, \n",
    "# find the factorial of 1-10.\n",
    "for num in range(1, 11):\n",
    "    factoral *=  num  \n",
    "    print(num, '\\t', factoral) #Print the numbers 1-10 and\n",
    "                               #their factorials under the header.\n",
    "    \n",
    "\n",
    "    \n",
    "    \n",
    "    \n",
    "    \n",
    "    \n",
    "    \n",
    "# Is it possible to use the '!' to find the factoral?"
   ]
  },
  {
   "cell_type": "markdown",
   "metadata": {},
   "source": [
    "## Problem 2: Factorials Using a While Loop \n",
    "\n",
    "Write an application that displays the factorial for every integer value from 1 - 10 using a <b>while loop only </b>. A factorial of a number is the product of that number multiplied by each positive integer lower than it. For example, 4! is 4 x 3 x 2 x 1 or 24. Display your results in a table with the headers factoral and result. Please do not use a combination of the while loop and for loop. Construct your solution using the while loop only. You should also use an accumulator in your solution."
   ]
  },
  {
   "cell_type": "code",
   "execution_count": null,
   "metadata": {},
   "outputs": [],
   "source": [
    "## Write the algorithm\n",
    "1. Create a table.\n",
    "2. Determine the starting number to find the factorial of.\n",
    "3. Find the product of a number and each positive interger that is lower than it. \n",
    "4. Repeat for numbers 1-10."
   ]
  },
  {
   "cell_type": "markdown",
   "metadata": {},
   "source": [
    "## Write the pseudocode.\n",
    "1. Print the table headings.\n",
    "2. Create variables for the factoral and its results.\n",
    "3. Create a condition controlled loop to calculate the factorials of 1-10.\n",
    "4. Print the factoral and its results under the header."
   ]
  },
  {
   "cell_type": "code",
   "execution_count": 12,
   "metadata": {},
   "outputs": [
    {
     "name": "stdout",
     "output_type": "stream",
     "text": [
      "Factoral\tResults\n",
      "-----------------------------\n",
      "1 \t\t 1\n",
      "2 \t\t 2\n",
      "3 \t\t 6\n",
      "4 \t\t 24\n",
      "5 \t\t 120\n",
      "6 \t\t 720\n",
      "7 \t\t 5040\n",
      "8 \t\t 40320\n",
      "9 \t\t 362880\n",
      "10 \t\t 3628800\n"
     ]
    }
   ],
   "source": [
    "# Print the table headings.\n",
    "print('Factoral\\tResults')\n",
    "print('-----------------------------')\n",
    "\n",
    "# Create variables for the factorial and its results.\n",
    "num= 0\n",
    "factoral = 1\n",
    "\n",
    "# Create a condition controlled loop \n",
    "#to calculate the factorals of 1-10\n",
    "while num <= 9:\n",
    "    num += 1\n",
    "    factoral *= num\n",
    "    # Print the factoral and its results under the header.\n",
    "    print(num , '\\t\\t', factoral ) .\n",
    "    "
   ]
  },
  {
   "cell_type": "markdown",
   "metadata": {},
   "source": [
    "## Problem 3: Country Club Membership\n",
    "A country club, which currently charges 2500.00 per year for membership, has announced it will increase its membership fee by 4 percent each year for the next 10 years. Write a program that uses a loop to display the projected rates for the next 10 years. Use a table to display the output of the loop. Format the dollar amounts with a dollar sign and round the decimal amounts to 2 decimal places."
   ]
  },
  {
   "cell_type": "markdown",
   "metadata": {},
   "source": [
    "## Write the algorithm.\n",
    "1. Create table.\n",
    "2. Determine original fee and the increase rate. \n",
    "3. Calculate the new fee over the span of 10 years. \n",
    "3. Show each year and its respective fee."
   ]
  },
  {
   "cell_type": "code",
   "execution_count": null,
   "metadata": {},
   "outputs": [],
   "source": [
    "## Pseudocode\n",
    "1. Print the table heading.\n",
    "2. Create the constant for the fee and the variable  for the original membership fee.\n",
    "3. Using a count controlled loop, calculate the new membership fees over 10 years. \n",
    "4. Print the years 1-10 and the new fees using under the header"
   ]
  },
  {
   "cell_type": "code",
   "execution_count": 9,
   "metadata": {},
   "outputs": [
    {
     "name": "stdout",
     "output_type": "stream",
     "text": [
      "Year\t\tNew Membership Fee\n",
      "----------------------------------\n",
      "1 \t\t $ 2,600.00\n",
      "2 \t\t $ 2,704.00\n",
      "3 \t\t $ 2,812.16\n",
      "4 \t\t $ 2,924.65\n",
      "5 \t\t $ 3,041.63\n",
      "6 \t\t $ 3,163.30\n",
      "7 \t\t $ 3,289.83\n",
      "8 \t\t $ 3,421.42\n",
      "9 \t\t $ 3,558.28\n",
      "10 \t\t $ 3,700.61\n",
      "11 \t\t $ 3,848.64\n"
     ]
    }
   ],
   "source": [
    "#Print the table heading.\n",
    "print('Year\\t\\tNew Membership Fee')\n",
    "print('----------------------------------')\n",
    "\n",
    "# Create a constant for the fee  \n",
    "# and create a variable for the original membership fee.\n",
    "FEE = .04\n",
    "membershipFee = 2500.00\n",
    "\n",
    "# Using a count controlled loop,\n",
    "# calculate the new membership fees over 10 years.\n",
    "for year in range(11):\n",
    "    membershipFee += (membershipFee * FEE)\n",
    "    print((year + 1), '\\t\\t', '$', format(membershipFee, ',.2f') )"
   ]
  },
  {
   "cell_type": "code",
   "execution_count": null,
   "metadata": {},
   "outputs": [],
   "source": []
  }
 ],
 "metadata": {
  "kernelspec": {
   "display_name": "Python 3 (ipykernel)",
   "language": "python",
   "name": "python3"
  },
  "language_info": {
   "codemirror_mode": {
    "name": "ipython",
    "version": 3
   },
   "file_extension": ".py",
   "mimetype": "text/x-python",
   "name": "python",
   "nbconvert_exporter": "python",
   "pygments_lexer": "ipython3",
   "version": "3.9.7"
  }
 },
 "nbformat": 4,
 "nbformat_minor": 2
}
