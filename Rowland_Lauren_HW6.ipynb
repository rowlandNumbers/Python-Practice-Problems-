{
 "cells": [
  {
   "cell_type": "markdown",
   "metadata": {},
   "source": [
    "# Chapter 6: Files & Exceptions Homework"
   ]
  },
  {
   "cell_type": "markdown",
   "metadata": {},
   "source": [
    "### Problem 1: Exception Handling\n",
    "\n",
    "Please reread section 6.4 Exceptions in the Gaddis textbook; pages 346 - 359. The following code does run. \n",
    "\n",
    "Modify the Python code below to handle the following exceptions:\n",
    "- An IOError exception that is raised when the file is opened and data is read from it.\n",
    "- A ValueError exception that is raised when the items that are read from the file are converted to a number.\n",
    "- Use the numbers.txt file from the Chapter 6 lab.\n",
    "\n"
   ]
  },
  {
   "cell_type": "markdown",
   "metadata": {},
   "source": [
    "### Algorithm \n",
    "1. Create variables.\n",
    "2. Open the number File\n",
    "3. Read each line in the file.\n",
    "3. Close the File\n",
    "4. Calculate & display average."
   ]
  },
  {
   "cell_type": "markdown",
   "metadata": {},
   "source": [
    "### Pseudocode\n",
    "1. Declare variables for total, number, and counter.\n",
    "2. Open numbers.txt file for reading\n",
    "3. Close file\n",
    "4. Calculate average using count controlled loop.\n",
    "5. Display the average of the numbers in the file\n",
    "6. Call the main function."
   ]
  },
  {
   "cell_type": "code",
   "execution_count": null,
   "metadata": {},
   "outputs": [],
   "source": [
    "def main():\n",
    "    # Declare variables\n",
    "    total = 0.0\n",
    "    number = 0.0\n",
    "    counter = 0\n",
    "    \n",
    "    try:\n",
    "        # Open numbers.txt file for reading\n",
    "        infile = open('numbers.txt', 'r')\n",
    "        for line in infile:\n",
    "            counter = counter + 1\n",
    "            number = float(line)\n",
    "            total *= number\n",
    "        # Close file\n",
    "        infile.close()\n",
    "        # Calculate average\n",
    "        average = total / counter\n",
    "        # Display the average of the numbers in the file\n",
    "        print('Average: ', average)\n",
    "    \n",
    "    except IOError:\n",
    "        print(\"An error has occured trying to read the file\")\n",
    "        \n",
    "    except ValueError:\n",
    "        print(\"Non-numeric data found in the file\")\n",
    "    \n",
    "# Call the main function.\n",
    "main()\n",
    "\n"
   ]
  },
  {
   "cell_type": "markdown",
   "metadata": {},
   "source": [
    "### Problem 2: Random Number File Writer Code Rearrangement\n",
    "\n",
    "Write a program that writes a series of random numbers to a file. Each random number should be in the range of 1 through 500. The application should allow the user to specify how manny random numbers the file will hold.\n",
    "The application should allow the user to specify how manny random numbers the file will hold.\n",
    "\n",
    "Pseudocode\n",
    "- Declare the local variables for the file name, number of randoms and random number\n",
    "- Create a variable to write the numbers; filename\n",
    "- Open the output file; outputFile \n",
    "- Write the random numbers to the output file with a loop\n",
    "- Close the file\n",
    "- Call the main function\n",
    "\n",
    "Rearrange the lines of code below so that the code runs. \n"
   ]
  },
  {
   "cell_type": "code",
   "execution_count": null,
   "metadata": {},
   "outputs": [],
   "source": [
    "## Algorithm \n",
    "1. Set Variables for the numbers. \n",
    "2. Ask the user for thje filename and open it.\n",
    "3. Get numbers from the user to add to the file.\n",
    "4. Close the file.\n"
   ]
  },
  {
   "cell_type": "code",
   "execution_count": null,
   "metadata": {},
   "outputs": [],
   "source": [
    "## Pseudocode\n",
    "\n",
    "1. Declare the local variables for the file name, number of randoms and random number\n",
    "2. Create a variable to write the numbers; filename\n",
    "3. Open the output file; outputFile\n",
    "4. Write the random numbers to the output file with a loop\n",
    "5. Close the file\n",
    "6. Call the main function"
   ]
  },
  {
   "cell_type": "code",
   "execution_count": null,
   "metadata": {},
   "outputs": [],
   "source": [
    "import random\n",
    "def main():\n",
    "    \n",
    "    # Local variables\n",
    "    filename = ''\n",
    "    numberOfRandoms = 0\n",
    "    randomNumber = 0\n",
    "    \n",
    "    #Get the file name as input from the file\n",
    "    filename = input('Enter the name of the file to which results should be written:')\n",
    "    \n",
    "    # Open output\n",
    "    outputFile = open(filename, 'w')\n",
    "    \n",
    "    # Get the number of items to write to the file\n",
    "    numberOfRandoms = int(input('Enter the number of random numbers to be written to the file: '))\n",
    "    \n",
    "    \n",
    "    for counter in range(numberOfRandoms):\n",
    "        randomNumber = random.randint(1, 500)\n",
    "        outputFile.write(str(randomNumber) + '\\n')\n",
    "        \n",
    "        \n",
    "        \n",
    "    # Close the output file\n",
    "    outputFile.close()\n",
    "# Call the main function.\n",
    "main()\n",
    "\n"
   ]
  },
  {
   "cell_type": "markdown",
   "metadata": {},
   "source": [
    "### Please write the algorithm for this problem."
   ]
  },
  {
   "cell_type": "markdown",
   "metadata": {},
   "source": [
    "### Problem 3:Basketball Scores\n",
    "\n",
    "The City of Chicago is having a Chicago Bulls tournament every weekend. The club president has asked you to write two programs:\n",
    "\n",
    "- A program that will read each player's name and points scored as keyboard input then save these records in a file named basketball.txt. (Each record will have a field for the player's name and a field for the player's points scored.)\n",
    "\n",
    "- Please make sure your file has the name and points of at least 5 individuals. You should create the names and points scored for your file.\n",
    "\n",
    "- The program should read the records from basketball.txt and display the information.\n",
    "\n"
   ]
  },
  {
   "cell_type": "markdown",
   "metadata": {},
   "source": [
    "### Algorithm \n",
    "1. Declare variables.\n",
    "2. Open a new file for basketball.\n",
    "3. Get the names and scores.\n",
    "4. Write the player's name and scores on the file. \n",
    "5. Close the basketball file. \n"
   ]
  },
  {
   "cell_type": "markdown",
   "metadata": {},
   "source": [
    "### Pseudocode \n",
    "1. Create variables for the number of players.\n",
    "2. Open a new file named basketball.txt\n",
    "3. Get the the players' name and score from the user.\n",
    "4. Write the name and score as a record to the file.\n",
    "5. Display a blank line. \n",
    "6. Close the basketball_file.\n",
    "7. Call the main function. "
   ]
  },
  {
   "cell_type": "code",
   "execution_count": 1,
   "metadata": {},
   "outputs": [
    {
     "name": "stdout",
     "output_type": "stream",
     "text": [
      "('Enter the data for player #', 1)\n",
      "Name: Tom Brady\n",
      "Score: 12\n",
      "\n",
      "('Enter the data for player #', 2)\n",
      "Name: Aaron Rogers\n",
      "Score: 12\n",
      "\n",
      "('Enter the data for player #', 3)\n",
      "Name: Michael Vick\n",
      "Score: 7\n",
      "\n",
      "('Enter the data for player #', 4)\n",
      "Name: Cam Newton\n",
      "Score: 1\n",
      "\n",
      "('Enter the data for player #', 5)\n",
      "Name: Odell Beckham Jr \n",
      "Score: 3\n",
      "\n",
      "The players' records have been written to basketball.txt\n"
     ]
    }
   ],
   "source": [
    "## A program that will read each player's name \n",
    "# and points scored as keyboard input then save \n",
    "# these records in a file named basketball.txt. \n",
    "# (Each record will have a field for the player's name \n",
    "# and a field for the player's points scored.)\n",
    "def main():\n",
    "    # Create variables for the number of players.\n",
    "    num_players = 5\n",
    "    # Open a new file named basketball.txt\n",
    "    basketball_file = open('basketball.txt', 'w')\n",
    "    \n",
    "    \n",
    "    \n",
    "    \n",
    "    for player in range(1, num_players + 1):\n",
    "        # Get the the players' name and score from the user.\n",
    "        print(('Enter the data for player #', player))\n",
    "        name = input('Name: ')\n",
    "        score = input(\"Score: \")\n",
    "        \n",
    "        #Write the name and score as a record to the file.\n",
    "        basketball_file.write(name + '\\n')\n",
    "        basketball_file.write(score + '\\n')\n",
    "        \n",
    "        # Display a blank line. #Why is this necessary?\n",
    "        print()\n",
    "    #Close the basketball_file\n",
    "    basketball_file.close()\n",
    "    print(\"The players' records have been written to basketball.txt\")\n",
    "       \n",
    "# Call the main function.       \n",
    "main()     "
   ]
  },
  {
   "cell_type": "code",
   "execution_count": null,
   "metadata": {},
   "outputs": [],
   "source": [
    "## Algorithm\n",
    "1. Open the basketball file.\n",
    "2. Read the basketball file.\n",
    "3. Close the basketballfile.\n",
    "4. Display the contents of the basketball.\n"
   ]
  },
  {
   "cell_type": "code",
   "execution_count": null,
   "metadata": {},
   "outputs": [],
   "source": [
    "## Pseudocode\n",
    "1. Open the basketball.txt file for reading.\n",
    "2. Read the contents.\n",
    "3. Close the file.\n",
    "4. Display the data.\n",
    "5. Call the main function."
   ]
  },
  {
   "cell_type": "code",
   "execution_count": 5,
   "metadata": {},
   "outputs": [
    {
     "name": "stdout",
     "output_type": "stream",
     "text": [
      "Tom Brady\n",
      "12\n",
      "Aaron Rogers\n",
      "12\n",
      "Michael Vick\n",
      "7\n",
      "Cam Newton\n",
      "1\n",
      "Odell Beckham Jr \n",
      "3\n",
      "\n"
     ]
    }
   ],
   "source": [
    "# This program reads and displays the contents of \n",
    "# the basketball.txt file\n",
    "def main():\n",
    "    # Open the basketball.txt file for reading\n",
    "    infile = open('basketball.txt', 'r')\n",
    "    \n",
    "    # Read the contents.\n",
    "    file_contents = infile.read()\n",
    "    \n",
    "    # Close the file.\n",
    "    infile.close()\n",
    "    \n",
    "    # Display the data.\n",
    "    print(file_contents)\n",
    "\n",
    "# Call the main function.\n",
    "main()\n",
    "    "
   ]
  },
  {
   "cell_type": "code",
   "execution_count": null,
   "metadata": {},
   "outputs": [],
   "source": []
  }
 ],
 "metadata": {
  "kernelspec": {
   "display_name": "Python 3 (ipykernel)",
   "language": "python",
   "name": "python3"
  },
  "language_info": {
   "codemirror_mode": {
    "name": "ipython",
    "version": 3
   },
   "file_extension": ".py",
   "mimetype": "text/x-python",
   "name": "python",
   "nbconvert_exporter": "python",
   "pygments_lexer": "ipython3",
   "version": "3.9.7"
  }
 },
 "nbformat": 4,
 "nbformat_minor": 2
}
