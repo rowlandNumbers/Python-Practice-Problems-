{
 "cells": [
  {
   "cell_type": "markdown",
   "metadata": {},
   "source": [
    "# Example 1\n",
    "\n",
    "Scientists measure an object’s mass in kilograms and its weight in newtons. If you know\n",
    "the amount of mass of an object in kilograms, you can calculate its weight in newtons with\n",
    "the following formula:\n",
    "    \n",
    "            weight = mass x 9.8\n",
    "\n",
    "Write a program that asks the user to enter an object’s mass, then calculates its weight. If\n",
    "the object weighs more than 500 newtons, display a message indicating that it is too heavy.\n",
    "If the object weighs less than 100 newtons, display a message indicating that it is too light."
   ]
  },
  {
   "cell_type": "markdown",
   "metadata": {},
   "source": [
    "## Write the algorithm\n",
    "1. Declare the variables.\n",
    "2. Get info from the user. \n",
    "3. Calculate the weight of the object. \n",
    "4. Tell the user it's too heavy if weight > 500.\n",
    "5. Tell the user it's too light if weight < 100. \n",
    "\n",
    "## Write the pseudocode\n",
    "1. Create variables for mass and weight.\n",
    "2. Ask the user to enter the object's mass.\n",
    "3. Calculate the weight of the object using weight = mass * 9.8\n",
    "4. Create an If-Statement: If the object weighs more than 500 newtons, display a message indicating that it is too heavy. \n",
    "5. Create an If- Statement: If the object weighs less than 100 newtons, display a message indicating that it is too light.\n"
   ]
  },
  {
   "cell_type": "code",
   "execution_count": 5,
   "metadata": {},
   "outputs": [
    {
     "name": "stdout",
     "output_type": "stream",
     "text": [
      "Enter the object's mass: 22\n"
     ]
    }
   ],
   "source": [
    "# Create variables for mass/weight and create constants for light/heavy weight. \n",
    "mass = 0.0\n",
    "weight = 0.0\n",
    "HEAVY = 500\n",
    "LIGHT = 100\n",
    "# Ask the user to enter the object's mass.\n",
    "mass = float(input(\"Enter the object's mass: \"))\n",
    "\n",
    "# Calculate the weight of the object using weight = mass * 9.8\n",
    "weight = mass * 9.8     \n",
    " \n",
    "# Create an If-statement: If the object weighs more than 500 newtons\n",
    "# display a message indicating that it is too heavy.\n",
    "if weight > HEAVY: \n",
    "    print(\"It is too heavy.\")\n",
    "    \n",
    "# Create an If-Statement: If the object weighs less than 100 newtons\n",
    "# display a message indicating that it is too light\n",
    "if weight < LIGHT : \n",
    "    print(\"It is too light.\")\n"
   ]
  },
  {
   "cell_type": "markdown",
   "metadata": {},
   "source": [
    "# Example 2\n",
    "\n",
    "Write a program that asks the user for a month as a number between 1 and 12. The\n",
    "program should display a message indicating whether the month is in the first quarter,\n",
    "the second quarter, the third quarter, or the fourth quarter of the year. Following are the\n",
    "guidelines:\n",
    "• If the user enters either 1, 2, or 3, the month is in the first quarter.\n",
    "• If the user enters a number between 4 and 6, the month is in the second quarter.\n",
    "• If the number is either 7, 8, or 9, the month is in the third quarter.\n",
    "• If the month is between 10 and 12, the month is in the fourth quarter.\n",
    "• If the number is not between 1 and 12, the program should display an error.\n",
    "\n",
    "## Write the algorithm\n",
    "1. Declare constants and variables.\n",
    "2. Ask the user for a month.\n",
    "3. Determine the quarter for the month entered by user. \n",
    "4. Dispaly what quarter the month is in."
   ]
  },
  {
   "cell_type": "markdown",
   "metadata": {},
   "source": [
    "## Write the pseudocode.\n",
    "1. Declare the variables for month and constants for quarter.\n",
    "2. Ask the user for a month in number form. \n",
    "3. Create If-Elif-Else Structure to determine if the month is in quarter 1,2,3,or 4. \n",
    "4. Display the quarter the month is in.\n"
   ]
  },
  {
   "cell_type": "code",
   "execution_count": null,
   "metadata": {},
   "outputs": [],
   "source": [
    "# Declare the variable for month.\n",
    "month = 0\n",
    "\n",
    "# Ask the user for a month in number form. \n",
    "month = int(input(\"Enter the month in numerical format: \"))\n",
    "\n",
    "# Create If-Elif-Else Structure to determine if \n",
    "# the month is in quarter 1, 2, 3, or 4.\n",
    "# Display the quarter the month is in.\n",
    "if month >= 10 and month < 13:\n",
    "    print(\"The month is in the fourth quarter.\")\n",
    "elif month >= 7 and month < 10:\n",
    "    print(\"The month is in the third quarter.\")\n",
    "elif month >= 4 and month < 7:\n",
    "    print(\"The month is in the second quarter.\")\n",
    "elif month >= 1 and month < 4:\n",
    "    print(\"The month is in the first quarter\")\n",
    "else:\n",
    "    print(\"Error!!!\")\n",
    "    "
   ]
  },
  {
   "cell_type": "code",
   "execution_count": null,
   "metadata": {},
   "outputs": [],
   "source": []
  },
  {
   "attachments": {
    "image.png": {
     "image/png": "[encoded data removed]"
    }
   },
   "cell_type": "markdown",
   "metadata": {},
   "source": [
    "## Example 3\n",
    "\n",
    "The Fast Freight Company charges the following rates:\n",
    "\n",
    "![image.png](attachment:image.png)\n",
    "\n",
    "Write a program that asks the user to enter the weight of a package then displays the shipping charges."
   ]
  },
  {
   "cell_type": "code",
   "execution_count": null,
   "metadata": {
    "scrolled": true
   },
   "outputs": [],
   "source": [
    "## Algorithm\n",
    "# 1. Declare the constants and variables.\n",
    "# 2. Get the input from the user.\n",
    "# 3. Calculate the shipping charges based on input.\n",
    "# 4. Display shipping charges. \n"
   ]
  },
  {
   "cell_type": "markdown",
   "metadata": {
    "collapsed": true
   },
   "source": [
    "## Write the pseudocode. Detail this more.\n",
    "1. Declare the constants for rate and variables for weight.\n",
    "2. Get the weight from the user.\n",
    "3. Calculate the shipping charges with rate * weight.\n",
    "4. Display shipping charges. "
   ]
  },
  {
   "cell_type": "code",
   "execution_count": null,
   "metadata": {},
   "outputs": [],
   "source": [
    "# Declare the constants for rate and variables for weight and price.\n",
    "RATE_150 = 1.50\n",
    "RATE_300 = 3.00\n",
    "RATE_400 = 4.00\n",
    "RATE_475 = 4.75\n",
    "\n",
    "weight = 0.00\n",
    "price = 0.00\n",
    "\n",
    "\n",
    "# Get the weight from the user.\n",
    "weight = float(input(\"Enther the weight of the package in pounds: \"))\n",
    "\n",
    "# Calculate the shipping charges with rate * weight.  \n",
    "# Display the shipping charges.\n",
    "if weight <= 2:\n",
    "    price = weight * RATE_150\n",
    "    print(\"The shipping charges are\", price)\n",
    "elif weight > 2 and weight < 6:\n",
    "    price = weight * RATE_300\n",
    "    print(\"The shipping charges are\", price)\n",
    "elif weight > 6 and weight < 10:\n",
    "    price = weight * RATE_400\n",
    "    print(\"The shipping charges are\", price)\n",
    "elif weight > 10:\n",
    "    price = weight * RATE_475\n",
    "    print(\"The shipping charges are\", price)\n",
    "\n",
    "\n"
   ]
  },
  {
   "cell_type": "code",
   "execution_count": 6,
   "metadata": {},
   "outputs": [
    {
     "name": "stdout",
     "output_type": "stream",
     "text": [
      "Enter the Weight of package :4\n",
      "Enter the weight of package\n"
     ]
    }
   ],
   "source": [
    "\n"
   ]
  },
  {
   "cell_type": "code",
   "execution_count": 9,
   "metadata": {},
   "outputs": [
    {
     "name": "stdout",
     "output_type": "stream",
     "text": [
      "Enter how many pounds: 11\n",
      "The shipping charges would be 52.25\n"
     ]
    }
   ],
   "source": []
  },
  {
   "cell_type": "code",
   "execution_count": 10,
   "metadata": {},
   "outputs": [
    {
     "name": "stdout",
     "output_type": "stream",
     "text": [
      "20\n"
     ]
    }
   ],
   "source": []
  },
  {
   "cell_type": "code",
   "execution_count": 15,
   "metadata": {},
   "outputs": [
    {
     "data": {
      "text/plain": [
       "True"
      ]
     },
     "execution_count": 15,
     "metadata": {},
     "output_type": "execute_result"
    }
   ],
   "source": []
  },
  {
   "cell_type": "code",
   "execution_count": null,
   "metadata": {},
   "outputs": [],
   "source": []
  }
 ],
 "metadata": {
  "kernelspec": {
   "display_name": "Python 3 (ipykernel)",
   "language": "python",
   "name": "python3"
  },
  "language_info": {
   "codemirror_mode": {
    "name": "ipython",
    "version": 3
   },
   "file_extension": ".py",
   "mimetype": "text/x-python",
   "name": "python",
   "nbconvert_exporter": "python",
   "pygments_lexer": "ipython3",
   "version": "3.9.7"
  }
 },
 "nbformat": 4,
 "nbformat_minor": 2
}
