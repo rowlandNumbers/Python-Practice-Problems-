{
 "cells": [
  {
   "cell_type": "markdown",
   "metadata": {},
   "source": [
    "# Chapter 5 Functions Lab "
   ]
  },
  {
   "cell_type": "markdown",
   "metadata": {
    "collapsed": true
   },
   "source": [
    "### Instructions\n",
    "\n",
    "Please rename this file with LastName_FirstName_L5. \n",
    "\n",
    "Please make sure that your notebook is submitted in the Jupyter Notebook format; ipynb. Files cannot be read in any other format for grading. Files submitted in other formats will be returned and graded as late. If you make a mistake and submit the incorrect format, you are able to resubmit as long as it is before the due date. The assignment link in Brightspace will allow for multiple submissions.\n"
   ]
  },
  {
   "cell_type": "markdown",
   "metadata": {},
   "source": [
    "### Example #1: Calculating a Percentage\n",
    "\n",
    "Suppose a retail business is planning to have a storewide sale where the prices of all items will be 20 percent off. We have been asked to write a program to calculate the sale price of an item after the discount is subtracted. \n",
    "\n",
    "\n"
   ]
  },
  {
   "cell_type": "markdown",
   "metadata": {},
   "source": [
    "### Algorithm\n",
    "\n",
    "- Get the original price of the item.\n",
    "- Calculate 20 percent of the original price. This is the amount of the discount.\n",
    "- Subtract the discount from the original price. This is the sale price.\n",
    "- Display the sale price.\n"
   ]
  },
  {
   "cell_type": "markdown",
   "metadata": {},
   "source": [
    "### Pseudocode\n",
    "\n",
    "1. Prompt the user to enter the original price of an item.\n",
    "2. Calculate the percentage of the original price.\n",
    "3. Calculate the sales price.\n",
    "4. Display the sale price."
   ]
  },
  {
   "cell_type": "code",
   "execution_count": 1,
   "metadata": {},
   "outputs": [
    {
     "name": "stdout",
     "output_type": "stream",
     "text": [
      "Enter the item's original price: 100\n",
      "The sale price is 80.0\n"
     ]
    }
   ],
   "source": [
    "## Python Code without function\n",
    "\n",
    "# Get the item's original price.\n",
    "original_price = float(input(\"Enter the item's original price: \"))\n",
    "\n",
    "# Calculate the amount of the discount.\n",
    "discount = original_price * 0.2\n",
    "\n",
    "# Calculate the sale price.\n",
    "sale_price = original_price - discount\n",
    "\n",
    "# Display the sale price.\n",
    "print('The sale price is', sale_price)"
   ]
  },
  {
   "cell_type": "code",
   "execution_count": 2,
   "metadata": {},
   "outputs": [],
   "source": [
    "## Python Code with Function\n",
    "\n",
    "def price():\n",
    "    # Get the item's original price.\n",
    "    original_price = float(input(\"Enter the item's original price: \"))\n",
    "\n",
    "    # Calculate the amount of the discount.\n",
    "    discount = original_price * 0.2\n",
    "\n",
    "    # Calculate the sale price.\n",
    "    sale_price = original_price - discount\n",
    "\n",
    "    # Display the sale price.\n",
    "    print('The sale price is', sale_price)\n",
    "    \n",
    "price()\n",
    "    "
   ]
  },
  {
   "cell_type": "markdown",
   "metadata": {},
   "source": [
    "### Example 2: How Much Insurance?\n",
    "\n",
    "Many financial experts advise that property owners should insure their homes or buildings for at least 80 percent of the amount it would cost to replace the structure. Write a program that asks the user to enter the replacement cost of a building, then displays the minimum amount of insurance he or she should buy for the property. \n",
    "\n",
    "Complete the following:\n",
    "- Write your program using the main function logic. \n",
    "- Create one function to calculate the cost of replacement.\n",
    "- Create another function to display the recommended insurance as arguments and display the transaction information."
   ]
  },
  {
   "cell_type": "code",
   "execution_count": 16,
   "metadata": {},
   "outputs": [
    {
     "name": "stdout",
     "output_type": "stream",
     "text": [
      "Enter the replacement amount: 250000\n",
      "Replacement cost: $250,000.00\n",
      "Minimum insurance: $200,000.00\n"
     ]
    }
   ],
   "source": [
    "# Python Code using main function logic\n",
    "\n",
    "# Global constant for the percent of replacement cost\n",
    "REPLACE_PERCENT = 0.8\n",
    "\n",
    "# main def\n",
    "def main():\n",
    "    # Local variables\n",
    "    replace= 0.0\n",
    "    minInsure = 0.0\n",
    "    # Get the replacement cost.\n",
    "    replace = float(input('Enter the replacement amount: '))\n",
    "    # Calculate the insurance amount\n",
    "    minInsure = replace * REPLACE_PERCENT\n",
    "    # Print information about the insurance.\n",
    "    showInsure(replace, minInsure)\n",
    " \n",
    "# The showInsure function accepts the replace value and the minimum recommended  \n",
    "# insurance as arguments and displays the transaction information.\n",
    "\n",
    "def showInsure (replace, minInsure):\n",
    "    print ('Replacement cost: $', \\\n",
    "           format(replace, ',.2f'), sep='')\n",
    "    print ('Minimum insurance: $', \\\n",
    "           format(minInsure, ',.2f'), sep='') \n",
    "    \n",
    "# Call the main function.\n",
    "main()"
   ]
  },
  {
   "cell_type": "code",
   "execution_count": 1,
   "metadata": {},
   "outputs": [],
   "source": [
    "## Python Code without using the function\n",
    "\n",
    "# Global constant for the percent of replacement cost\n",
    "REPLACE_PERCENT = 0.8\n",
    "replace= 0.0\n",
    "minInsure = 0.0\n",
    "\n",
    "# Get the replacement cost.\n",
    "replace = float(input('Enter the replacement amount: '))\n",
    "\n",
    "# Calculate the insurance amount\n",
    "minInsure = replace * REPLACE_PERCENT\n",
    "\n",
    "# Print information about the insurance.\n",
    "\n",
    " \n",
    "# The showInsure function accepts the replace value and the minimum recommended  \n",
    "# insurance as arguments and displays the transaction information.\n",
    "\n",
    "\n",
    "print ('Replacement cost: $', \\\n",
    "    format(replace, ',.2f'), sep='')\n",
    "print ('Minimum insurance: $', \\\n",
    "    format(minInsure, ',.2f'), sep='') \n",
    "    \n"
   ]
  },
  {
   "cell_type": "markdown",
   "metadata": {},
   "source": [
    "### Example 3: Math Quiz\n",
    "\n",
    "Write a program that gives simple math quizzes. The program should display two random numbers that are to be added, such as: 247 + 129.\n",
    "The program should allow the student to enter the answer. If the answer is correct, a message of congratulations should be displayed. If the answer is incorrect, a message showing the correct answer should be displayed.\n",
    "    "
   ]
  },
  {
   "cell_type": "code",
   "execution_count": 20,
   "metadata": {},
   "outputs": [
    {
     "name": "stdout",
     "output_type": "stream",
     "text": [
      "  918\n",
      "+ 750\n",
      "Enter sum of numbers: 1668\n",
      "Correct answer – Good Work!\n"
     ]
    }
   ],
   "source": [
    "import random\n",
    "\n",
    "# main function\n",
    "def main():\n",
    "    # Create local variables for number 1, number 2, correct answer and user answer.\n",
    "    num1 = 0\n",
    "    num2 = 0\n",
    "    correctAnswer = 0\n",
    "    userAnswer = 0\n",
    "    \n",
    "    # Get numbers\n",
    "    num1 = random.randint(0, 999)\n",
    "    num2 = random.randint(0, 999)\n",
    " \n",
    "    # Display math problem \n",
    "    displayProblem(num1,num2)\n",
    "    \n",
    "    # Get user answer\n",
    "    userAnswer = getAnswer()\n",
    "    \n",
    "    # Calculate correct answer\n",
    "    correctAnswer = num1 + num2\n",
    "    \n",
    "    # Display result\n",
    "    showResult(correctAnswer, userAnswer)\n",
    "    \n",
    "# The displayProblem function accepts the numbers and displays the numbers.\n",
    "\n",
    "def displayProblem(num1,num2):\n",
    "    print (format(num1, '5'))\n",
    "    print ('+', end='')\n",
    "    print (format(num2, '4'))\n",
    "\n",
    "# The getAnswer function gets and returns the user answer\n",
    "def getAnswer():\n",
    "    inputAnswer = int(input('Enter sum of numbers: '))\n",
    "    return inputAnswer\n",
    " \n",
    "# The showResult function tells if user answer is\n",
    "# correct or not\n",
    "def showResult (correctAnswer, answer):\n",
    "    if correctAnswer == answer:\n",
    "        print ('Correct answer – Good Work!')\n",
    "    else:\n",
    "         print ('Incorrect... The correct answer is:', \\\n",
    " correctAnswer)\n",
    "            \n",
    "# Call the main function.\n",
    "main()"
   ]
  },
  {
   "cell_type": "markdown",
   "metadata": {},
   "source": [
    "### Example 4: Stadium Seating\n",
    "\n",
    "There are three seating categories at a stadium. Class A seats cost 20 dollars, Class B seats cost 15 dollars and Class C seats costs 10 dollars. Write a program that asks how many tickets for each class of seats were sold, then displays the amount of income generated from ticket sales."
   ]
  },
  {
   "cell_type": "code",
   "execution_count": 5,
   "metadata": {},
   "outputs": [
    {
     "name": "stdout",
     "output_type": "stream",
     "text": [
      "Enter count of A seats: 10\n",
      "Enter count of B seats: 15\n",
      "Enter count of C seats: 20\n",
      "Income from class A seats: $200.00\n",
      "Income from class B seats: $225.00\n",
      "Income from class C seats: $200.00\n",
      "Total income: $625.00\n"
     ]
    }
   ],
   "source": [
    "# Global constants for stadium seating\n",
    "CLASS_A_SEATS = 20\n",
    "CLASS_B_SEATS = 15\n",
    "CLASS_C_SEATS = 10\n",
    "# main module\n",
    "\n",
    " # Local variables\n",
    "countAseats = 0\n",
    "countBseats = 0\n",
    "countCseats = 0\n",
    "incomeAseats = 0.0\n",
    "incomeBseats = 0.0\n",
    "incomeCseats = 0.0\n",
    "    \n",
    "# Get A count\n",
    "countAseats = int(input('Enter count of A seats: '))\n",
    "    \n",
    "# Get B count\n",
    "countBseats = int(input('Enter count of B seats: '))\n",
    "    \n",
    "# Get C count\n",
    "countCseats = int(input('Enter count of C seats: '))\n",
    "    \n",
    "# Calculate A income\n",
    "incomeAseats = countAseats * CLASS_A_SEATS\n",
    "    \n",
    "# Calculate B income\n",
    "incomeBseats = countBseats * CLASS_B_SEATS\n",
    "    \n",
    "# Calculate C income\n",
    "incomeCseats = countCseats * CLASS_C_SEATS\n",
    " \n",
    "# Calculate total income\n",
    "totalIncome = incomeAseats + incomeBseats + incomeCseats\n",
    " \n",
    "# Show results\n",
    "print (\"Income from class A seats: $\", \\\n",
    "    format(incomeAseats, '.2f'), sep='')\n",
    "print (\"Income from class B seats: $\", \\\n",
    "    format(incomeBseats, '.2f'), sep='')\n",
    "print (\"Income from class C seats: $\", \\\n",
    "    format(incomeCseats, '.2f'), sep='')\n",
    "print (\"Total income: $\", \\\n",
    "    format(totalIncome, '.2f'), sep='')\n"
   ]
  },
  {
   "cell_type": "code",
   "execution_count": null,
   "metadata": {},
   "outputs": [],
   "source": []
  }
 ],
 "metadata": {
  "kernelspec": {
   "display_name": "Python 3 (ipykernel)",
   "language": "python",
   "name": "python3"
  },
  "language_info": {
   "codemirror_mode": {
    "name": "ipython",
    "version": 3
   },
   "file_extension": ".py",
   "mimetype": "text/x-python",
   "name": "python",
   "nbconvert_exporter": "python",
   "pygments_lexer": "ipython3",
   "version": "3.9.7"
  }
 },
 "nbformat": 4,
 "nbformat_minor": 2
}
