{
 "cells": [
  {
   "cell_type": "markdown",
   "metadata": {},
   "source": [
    "# Chapter 6: Files & Exceptions \n",
    "\n",
    "Chapter 6 will consist of three problems. There are three problems in this lab. The first two problems are due for submission by the end of class today Wednesday, March 9th 11:00 am. \n",
    "\n",
    "Change the file name to LastName_FirstName_L6\n",
    "\n",
    "### Problem 1: File Display Create\n",
    "\n",
    "Assume a file containing a series of integers is named numbers.txt and exists on the computer’s\n",
    "disk. Write a program that displays all of the numbers in the file. Rearrange the lines of code to make the program run.\n",
    "\n",
    "- Create an IPO chart\n",
    "- Create an algorithm\n",
    "- Create pseudocode"
   ]
  },
  {
   "cell_type": "code",
   "execution_count": null,
   "metadata": {},
   "outputs": [],
   "source": [
    "## Algorithm\n",
    "1. Open the numbers file.\n",
    "2. Read the contents.\n",
    "3. Close the file.\n",
    "4. Print the contents."
   ]
  },
  {
   "cell_type": "code",
   "execution_count": null,
   "metadata": {},
   "outputs": [],
   "source": [
    "##Pseudocode\n",
    "1. Declare local variables.\n",
    "2. Open numbers.txt file for reading. \n",
    "3. Read in data and store in content.\n",
    "4. Close file.\n",
    "5. Print contents.\n",
    "6. Call the main function."
   ]
  },
  {
   "cell_type": "code",
   "execution_count": 3,
   "metadata": {},
   "outputs": [
    {
     "name": "stdout",
     "output_type": "stream",
     "text": [
      "8\n",
      "6\n",
      "5\n",
      "\n"
     ]
    }
   ],
   "source": [
    "\n",
    "def main():\n",
    "    \n",
    "    # Declare local variables\n",
    "    contents = '' \n",
    "    \n",
    "    # Open numbers.txt file for reading \n",
    "    infile = open('numbers.txt', 'r')\n",
    "    \n",
    "    \n",
    "    # Read in data and store in content\n",
    "    contents = infile.read()\n",
    "    \n",
    "    # Close file\n",
    "    infile.close()\n",
    "    \n",
    "    # Print contents\n",
    "    print(contents)\n",
    "\n",
    "\n",
    "# Call the main function.\n",
    "main() \n",
    "\n",
    "\n",
    " \n",
    "\n",
    "\n",
    "\n"
   ]
  },
  {
   "cell_type": "markdown",
   "metadata": {},
   "source": [
    "### Problem 2: Average of Numbers\n",
    "\n",
    "Assume a file containing a series of integers is named numbers.txt and exists on the\n",
    "computer’s disk. Write a program that calculates the average of all the numbers stored in\n",
    "the file. \n",
    "\n",
    "- Create an IPO chart\n",
    "- Create an algorithm\n",
    "- Create pseudocode\n"
   ]
  },
  {
   "cell_type": "code",
   "execution_count": null,
   "metadata": {},
   "outputs": [],
   "source": [
    "## Algorithm\n",
    "1. Open the file.\n",
    "2. Close the file\n",
    "3. Calculate the average of all the numbers in the file.\n",
    "4. Display the average."
   ]
  },
  {
   "cell_type": "code",
   "execution_count": null,
   "metadata": {},
   "outputs": [],
   "source": [
    "## Pseudocode\n",
    "1. Declare variables\n",
    "2. Open numbers.txt file for reading\n",
    "3. Close file \n",
    "4. Calculate average\n",
    "5. Display the average of the numbers in the file\n",
    "6. Call the main function."
   ]
  },
  {
   "cell_type": "code",
   "execution_count": 6,
   "metadata": {},
   "outputs": [
    {
     "name": "stdout",
     "output_type": "stream",
     "text": [
      "Average:  6.333333333333333\n"
     ]
    }
   ],
   "source": [
    "def main():\n",
    "    # Declare variables   \n",
    "    total = 0.0\n",
    "    number = 0.0\n",
    "    counter = 0\n",
    "\n",
    "    # Open numbers.txt file for reading\n",
    "    infile = open('numbers.txt', 'r')\n",
    "\n",
    "    for line in infile:\n",
    "        number = float(line)\n",
    "        counter = counter + 1\n",
    "        total += number\n",
    "        \n",
    "\n",
    "    # Close file\n",
    "    infile.close()\n",
    "\n",
    "    # Calculate average\n",
    "    average = total / counter\n",
    "    # Display the average of the numbers in the file\n",
    "    print('Average: ', average)\n",
    "    \n",
    "\n",
    "# Call the main function.\n",
    "main()"
   ]
  },
  {
   "cell_type": "code",
   "execution_count": null,
   "metadata": {
    "collapsed": true
   },
   "outputs": [],
   "source": []
  }
 ],
 "metadata": {
  "kernelspec": {
   "display_name": "Python 3 (ipykernel)",
   "language": "python",
   "name": "python3"
  },
  "language_info": {
   "codemirror_mode": {
    "name": "ipython",
    "version": 3
   },
   "file_extension": ".py",
   "mimetype": "text/x-python",
   "name": "python",
   "nbconvert_exporter": "python",
   "pygments_lexer": "ipython3",
   "version": "3.9.7"
  }
 },
 "nbformat": 4,
 "nbformat_minor": 2
}
