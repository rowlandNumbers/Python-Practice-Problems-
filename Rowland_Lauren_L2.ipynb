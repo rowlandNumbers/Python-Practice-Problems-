{
 "cells": [
  {
   "cell_type": "markdown",
   "metadata": {},
   "source": [
    "# Chapter 2:  Input, Process, Output In Class Lab 2 CIS 103 Spring 2022"
   ]
  },
  {
   "cell_type": "markdown",
   "metadata": {},
   "source": [
    "### Example #1\n",
    "### Calculating a Percentage\n",
    "\n",
    "Suppose a retail business is planning to have a storewide sale where the prices of all items will be 20 percent off. We have been asked to write a program to calculate the sale price of an item after the discount is subtracted. \n",
    "\n"
   ]
  },
  {
   "cell_type": "markdown",
   "metadata": {},
   "source": [
    "### Algorithm \n",
    "\n",
    "1. Declare variables and constants \n",
    "2. Get the original price of the item.\n",
    "3. Calculate the amount of the discount.\n",
    "4. Subtract the discount from the original price. This is the sale price.\n",
    "5. Display the sale price.\n",
    "\n",
    "In step 1, we get the original price of the item.We will prompt the user to enter this data on the keyboard. In our program we will use the following statement to do this. Notice the value entered by the user will be stored in a variable named original_price.\n",
    "\n",
    "    original_price = float(input(\"Enter the item's original price: \"))\n",
    "\n",
    "In step 2, we calculate the amount of the discount. To do this, we multiply the original price by 20 percent. The following statement performs this calculation and assigns the result to the discount variable:\n",
    "\n",
    "Make sure that the percentage’s decimal point is in the correct location before doing any math with the percentage. This is especially true when the user enters a percentage as input. Most users enter the number 50 to mean 50 percent, 20 to mean 20 percent, and so forth. Before you perform any calculations with such a percentage, you have to divide it by 100 to move its decimal point two places to the left.\n",
    "\n",
    "    discount = original_price * 0.2\n",
    "\n",
    "In step 3, we subtract the discount from the original price. The following statement does this calculation and stores the result in the sale_price variable:\n",
    "\n",
    "    sale_price = original_price − discount\n",
    "\n",
    "Last, in step 4, we will use the following statement to display the sale price:\n",
    "\n",
    "    print('The sale price is', sale_price)\n"
   ]
  },
  {
   "cell_type": "markdown",
   "metadata": {},
   "source": [
    "### Pseudocode\n",
    "\n",
    "1. Create the variables or constants.\n",
    "2. Prompt the user to enter the original price of an item.\n",
    "3. Calculate the percentage of the original price.\n",
    "4. Calculate the sales price.\n",
    "5. Display the sale price."
   ]
  },
  {
   "cell_type": "code",
   "execution_count": 2,
   "metadata": {},
   "outputs": [
    {
     "name": "stdout",
     "output_type": "stream",
     "text": [
      "Enter the item's original price: 100\n",
      "The sales price is  80.0\n",
      "80.0\n"
     ]
    }
   ],
   "source": [
    "## Write the code\n",
    "# Declare the variables & constants\n",
    "SALES_DISCOUNT = .20\n",
    "originalPrice = 0.0\n",
    "salePrice = 0.0\n",
    "discount = 0.0\n",
    "\n",
    "# Prompt the user for the original price\n",
    "originalPrice = float(input(\"Enter the item's original price: \"))\n",
    "\n",
    "# Calculate the percentage of the orginal price\n",
    "discount = originalPrice * SALES_DISCOUNT\n",
    "salePrice = originalPrice - discount\n",
    "\n",
    "# Display the sales price\n",
    "print(\"The sales price is \" , salePrice)\n",
    "print(salePrice)"
   ]
  },
  {
   "cell_type": "markdown",
   "metadata": {},
   "source": [
    "### Example #2\n",
    "### Calculating an Average\n",
    "Determining the average of a group of values is a simple calculation: add all of the values then divide the sum by the number of values. Although this is a straightforward calculation, it is easy to make a mistake when writing a program that calculates an average. For example, let’s assume that the variables a, b, and c each hold a value and we want to calculate the average of those values. If we are careless, we might write a statement such as the following to perform the calculation:\n",
    "\n",
    "    average = a + b + c / 3.0\n",
    "    \n",
    "Can you see the error in this statement? When it executes, the division will take place first. The value in c will be divided by 3, then the result will be added to a + b. That is not the correct way to calculate an average. To correct this error, we need to put parentheses around a + b + c, as shown here:\n",
    "\n",
    "    average = (a + b + c) / 3.0\n",
    "    \n"
   ]
  },
  {
   "cell_type": "markdown",
   "metadata": {},
   "source": [
    "### Algorithm\n",
    "\n",
    "1. Get the first test score.\n",
    "2. Get the second test score.\n",
    "3. Get the third test score.\n",
    "4. Calculate the average by adding the three test scores and dividing the sum by 3.\n",
    "5. Display the average.\n",
    "\n"
   ]
  },
  {
   "cell_type": "markdown",
   "metadata": {
    "scrolled": true
   },
   "source": [
    "### Pseudocode\n",
    "\n",
    "1. Create the variable or constants\n",
    "2. Prompt the user to enter the three test scores. 3\n",
    "3. Calculate the average of the three test scores; average = (test1 + test2 + test3) / 3.0\n",
    "4. Display the average. \n",
    "\n"
   ]
  },
  {
   "cell_type": "code",
   "execution_count": 1,
   "metadata": {},
   "outputs": [],
   "source": [
    "## Write the code\n",
    "\n",
    "test_1 = 0.0\n",
    "test_2 = 0.0\n",
    "test_3 = 0.0\n",
    "average = 0.0 \n",
    "\n",
    "# Ask the user for the three test scores. 3 \n",
    "average = float((input(\"Enter the test scores: \"))\n",
    "                \n",
    "# Calculate the average\n",
    "average ="
   ]
  },
  {
   "cell_type": "markdown",
   "metadata": {},
   "source": [
    "### Example #3\n",
    "### Payment Installments\n",
    "\n",
    "Write a program that asks the user to enter the amount of a purchase and the desired number of payment installments. The program should add 5 percent to the amount to get the total purchase amount, and then divide it by the desired number of instalments, then display messages telling the user the total amount of the purchase and how much each\n",
    "instalment will cost."
   ]
  },
  {
   "cell_type": "markdown",
   "metadata": {},
   "source": [
    "### Write the algorithm.\n",
    "\n",
    "1. Amount of the purchase\n",
    "2. Amount of the installments\n",
    "3. Calculate 5% of the purchase price\n",
    "4. Calculate the cost of installments\n",
    "5. Display the total amount of the purchase and how much each installment will cost.\n",
    "\n"
   ]
  },
  {
   "cell_type": "markdown",
   "metadata": {},
   "source": [
    "### Write the pseudocode.\n",
    "\n",
    "1. Create variables or constants.\n",
    "2. Ask the user to enter the amount of the purchase\n",
    "3. Ask the user for the number of installments\n",
    "4. Calculate the price of the installments based on the number of installments.\n",
    "5. Display the total amount of the purchase and the cost of each installment."
   ]
  },
  {
   "cell_type": "code",
   "execution_count": null,
   "metadata": {},
   "outputs": [],
   "source": [
    "## Write the code"
   ]
  }
 ],
 "metadata": {
  "kernelspec": {
   "display_name": "Python 3 (ipykernel)",
   "language": "python",
   "name": "python3"
  },
  "language_info": {
   "codemirror_mode": {
    "name": "ipython",
    "version": 3
   },
   "file_extension": ".py",
   "mimetype": "text/x-python",
   "name": "python",
   "nbconvert_exporter": "python",
   "pygments_lexer": "ipython3",
   "version": "3.9.7"
  }
 },
 "nbformat": 4,
 "nbformat_minor": 4
}
